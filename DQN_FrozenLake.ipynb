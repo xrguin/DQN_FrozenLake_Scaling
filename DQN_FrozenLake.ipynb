{
 "cells": [
  {
   "cell_type": "code",
   "execution_count": 1,
   "metadata": {},
   "outputs": [],
   "source": [
    "import torch\n",
    "import torch.nn as nn\n",
    "import torch.optim as optim\n",
    "import numpy as np\n",
    "import gymnasium as gym\n",
    "from collections import deque, namedtuple\n",
    "import random\n",
    "import math\n",
    "import logging\n",
    "import matplotlib.pyplot as plt"
   ]
  },
  {
   "cell_type": "code",
   "execution_count": 2,
   "metadata": {},
   "outputs": [],
   "source": [
    "class DQN(nn.Module):\n",
    "    def __init__(self, input_size, action_size):\n",
    "        super().__init__()\n",
    "        self.net = nn.Sequential(\n",
    "            nn.Linear(input_size, 64),\n",
    "            nn.ReLU(),\n",
    "            nn.Linear(64,64),\n",
    "            nn.ReLU(),\n",
    "            nn.Linear(64, action_size)\n",
    "        )\n",
    "\n",
    "    def forward(self, x):\n",
    "        return self.net(x)"
   ]
  },
  {
   "cell_type": "code",
   "execution_count": 3,
   "metadata": {},
   "outputs": [],
   "source": [
    "class DQNFrozenLake:\n",
    "    def __init__(self, grid_size = 4, gamma = 0.99, lr = 1e-3):\n",
    "        self.env = gym.make(\"FrozenLake-v1\", map_name=f\"{grid_size}x{grid_size}\", is_slippery=True)\n",
    "        self.state_size = self.env.observation_space.n\n",
    "        self.action_size = self.env.action_space.n\n",
    "        self.device = torch.device('cuda' if torch.cuda.is_available() else 'cpu')\n",
    "\n",
    "        self.policy_net = DQN(self.state_size, self.action_size).to(self.device)\n",
    "        self.target_net = DQN(self.state_size, self.action_size).to(self.device)\n",
    "        self.target_net.load_state_dict(self.policy_net.state_dict())\n",
    "\n",
    "        # DQN hyperparameters\n",
    "        self.memory = deque(maxlen=10000)\n",
    "        self.batch_size = 64\n",
    "        self.gamma = gamma\n",
    "        self.epsilon_start = 1.0\n",
    "        self.epsilon_min = 0.05\n",
    "        self.epsilon_decay = 1000\n",
    "        self.steps_done = 0\n",
    "        self.learning_rate = lr\n",
    "        self.epsilon = self.epsilon_start\n",
    "\n",
    "        self.optimizer = optim.Adam(self.policy_net.parameters(), lr=self.learning_rate)\n",
    "        self.Transition = namedtuple('Transition', \n",
    "                                   ('state', 'action', 'reward', 'next_state', 'terminated'))\n",
    "\n",
    "    def state_to_tensor(self, state):\n",
    "        state_tensor = torch.zeros(self.state_size)\n",
    "        state_tensor[state] = 1\n",
    "        return state_tensor.to(self.device)\n",
    "    \n",
    "    def select_action(self, state):\n",
    "        rand_value = random.random()\n",
    "        self.epsilon = self.epsilon_min + (self.epsilon_start - self.epsilon_min) * \\\n",
    "            math.exp(-1. * self.steps_done / self.epsilon_decay)\n",
    "        self.steps_done += 1\n",
    "        # Exploration\n",
    "        if rand_value < self.epsilon:\n",
    "            return random.randrange(self.action_size)\n",
    "        \n",
    "        # Exploitation\n",
    "        else:\n",
    "            with torch.no_grad():\n",
    "                state_tensor = self.state_to_tensor(state)\n",
    "                q_values = self.policy_net(state_tensor)\n",
    "                return q_values.argmax().item()\n",
    "            \n",
    "    def remember(self, state, action, reward, next_state, terminated):\n",
    "        self.memory.append(self.Transition(state, action, reward, next_state, terminated))\n",
    "\n",
    "    def replay(self):\n",
    "        if len(self.memory) < self.batch_size:\n",
    "            return\n",
    "        \n",
    "        transitions = random.sample(self.memory, self.batch_size)\n",
    "        batch = self.Transition(*zip(*transitions))\n",
    "\n",
    "        # Recorded states of simulations\n",
    "        state_batch = torch.stack([self.state_to_tensor(s) for s in batch.state])\n",
    "        # Recorded actions of simulations\n",
    "        action_batch = torch.tensor(batch.action, device=self.device)\n",
    "        reward_batch = torch.tensor(batch.reward, device=self.device)\n",
    "        next_state_batch = torch.stack([self.state_to_tensor(s) for s in batch.next_state])\n",
    "        terminated_batch = torch.tensor(batch.terminated, device=self.device, dtype=torch.float)\n",
    "\n",
    "        # Compute current Q values\n",
    "        current_q_values = self.policy_net(state_batch).gather(1, action_batch.unsqueeze(1))\n",
    "\n",
    "        # Compute next Q values for calulating expected Q values, based on Bellman Equation\n",
    "        with torch.no_grad():\n",
    "            next_q_values = self.target_net(next_state_batch).max(1)[0]\n",
    "            # For terminal state, no future state, then the reward is only immediate reward\n",
    "            expected_q_values = reward_batch + self.gamma * next_q_values * (1 - terminated_batch)\n",
    "\n",
    "        # Compute loss and optimize\n",
    "        loss = nn.MSELoss()(current_q_values.squeeze(), expected_q_values)\n",
    "        self.optimizer.zero_grad()\n",
    "        loss.backward()\n",
    "        self.optimizer.step()\n",
    "\n",
    "        return loss.item()\n",
    "    \n",
    "    def update_target_network(self):\n",
    "        self.target_net.load_state_dict(self.policy_net.state_dict())\n",
    "\n",
    "    def train(self, episodes = 1000, target_update = 10, record_video = False):\n",
    "        rewards_history = []\n",
    "\n",
    "        if record_video:\n",
    "            env = gym.make(self.env.unwrapped.spec.id, render_mode='rgb_array',\n",
    "                          map_name=\"4x4\", is_slippery=True)\n",
    "            env = gym.wrappers.RecordVideo(env, \"dqn_frozen_lake_videos\",\n",
    "                                         episode_trigger=lambda x: x % 100 == 0)\n",
    "        else:\n",
    "            env = self.env\n",
    "        \n",
    "        for episode in range(episodes):\n",
    "            state, _ = env.reset()\n",
    "            total_reward = 0\n",
    "            terminated = False\n",
    "\n",
    "            while not terminated:\n",
    "                action = self.select_action(state)\n",
    "                next_state, reward, terminated, truncated, _ = env.step(action)\n",
    "                terminated = terminated or truncated\n",
    "\n",
    "                self.remember(state, action, reward, next_state, terminated)\n",
    "                loss = self.replay()\n",
    "                state = next_state\n",
    "                total_reward += reward\n",
    "\n",
    "            if episode % target_update == 0:\n",
    "                self.update_target_network()\n",
    "\n",
    "            rewards_history.append(total_reward)\n",
    "\n",
    "            if episode % 100 == 0:\n",
    "                avg_reward = np.mean(rewards_history[-100:])\n",
    "                logging.info(f\"Episode {episode}/{episodes}, Avg Reward: {avg_reward:.3f}, Epsilon: {self.epsilon:.3f}\")\n",
    "\n",
    "        env.close()\n",
    "        return rewards_history\n",
    "    \n",
    "    def save_model(self, filename):\n",
    "        torch.save({\n",
    "            'policy_net_state_dict': self.policy_net.state_dict(),\n",
    "            'target_net_state_dict': self.target_net.state_dict(),\n",
    "            'optimizer_state_dict': self.optimizer.state_dict(),\n",
    "        }, filename)\n",
    "\n",
    "\n",
    "    def load_model(self, filename):\n",
    "        checkpoint = torch.load(filename)\n",
    "        self.policy_net.load_state_dict(checkpoint['policy_net_state_dict'])\n",
    "        self.target_net.load_state_dict(checkpoint['target_net_state_dict'])\n",
    "        self.optimizer.load_state_dict(checkpoint['optimizer_state_dict'])\n"
   ]
  },
  {
   "cell_type": "code",
   "execution_count": 8,
   "metadata": {},
   "outputs": [
    {
     "name": "stderr",
     "output_type": "stream",
     "text": [
      "/opt/anaconda3/envs/pytorch_env/lib/python3.9/site-packages/gymnasium/wrappers/record_video.py:87: UserWarning: \u001b[33mWARN: Overwriting existing videos at /Users/xrxr/Desktop/ssh_1/ForzenLakeDQN/dqn_frozen_lake_videos folder (try specifying a different `video_folder` for the `RecordVideo` wrapper if this is not desired)\u001b[0m\n",
      "  logger.warn(\n"
     ]
    },
    {
     "name": "stdout",
     "output_type": "stream",
     "text": [
      "Moviepy - Building video /Users/xrxr/Desktop/ssh_1/ForzenLakeDQN/dqn_frozen_lake_videos/rl-video-episode-0.mp4.\n",
      "Moviepy - Writing video /Users/xrxr/Desktop/ssh_1/ForzenLakeDQN/dqn_frozen_lake_videos/rl-video-episode-0.mp4\n",
      "\n"
     ]
    },
    {
     "name": "stderr",
     "output_type": "stream",
     "text": [
      "INFO:root:Episode 0/5000, Avg Reward: 0.000, Epsilon: 0.992\n"
     ]
    },
    {
     "name": "stdout",
     "output_type": "stream",
     "text": [
      "Moviepy - Done !\n",
      "Moviepy - video ready /Users/xrxr/Desktop/ssh_1/ForzenLakeDQN/dqn_frozen_lake_videos/rl-video-episode-0.mp4\n",
      "Moviepy - Building video /Users/xrxr/Desktop/ssh_1/ForzenLakeDQN/dqn_frozen_lake_videos/rl-video-episode-100.mp4.\n",
      "Moviepy - Writing video /Users/xrxr/Desktop/ssh_1/ForzenLakeDQN/dqn_frozen_lake_videos/rl-video-episode-100.mp4\n",
      "\n"
     ]
    },
    {
     "name": "stderr",
     "output_type": "stream",
     "text": [
      "INFO:root:Episode 100/5000, Avg Reward: 0.040, Epsilon: 0.405\n"
     ]
    },
    {
     "name": "stdout",
     "output_type": "stream",
     "text": [
      "Moviepy - Done !\n",
      "Moviepy - video ready /Users/xrxr/Desktop/ssh_1/ForzenLakeDQN/dqn_frozen_lake_videos/rl-video-episode-100.mp4\n",
      "Moviepy - Building video /Users/xrxr/Desktop/ssh_1/ForzenLakeDQN/dqn_frozen_lake_videos/rl-video-episode-200.mp4.\n",
      "Moviepy - Writing video /Users/xrxr/Desktop/ssh_1/ForzenLakeDQN/dqn_frozen_lake_videos/rl-video-episode-200.mp4\n",
      "\n"
     ]
    },
    {
     "name": "stderr",
     "output_type": "stream",
     "text": [
      "INFO:root:Episode 200/5000, Avg Reward: 0.150, Epsilon: 0.113\n"
     ]
    },
    {
     "name": "stdout",
     "output_type": "stream",
     "text": [
      "Moviepy - Done !\n",
      "Moviepy - video ready /Users/xrxr/Desktop/ssh_1/ForzenLakeDQN/dqn_frozen_lake_videos/rl-video-episode-200.mp4\n",
      "Moviepy - Building video /Users/xrxr/Desktop/ssh_1/ForzenLakeDQN/dqn_frozen_lake_videos/rl-video-episode-300.mp4.\n",
      "Moviepy - Writing video /Users/xrxr/Desktop/ssh_1/ForzenLakeDQN/dqn_frozen_lake_videos/rl-video-episode-300.mp4\n",
      "\n"
     ]
    },
    {
     "name": "stderr",
     "output_type": "stream",
     "text": [
      "INFO:root:Episode 300/5000, Avg Reward: 0.160, Epsilon: 0.054\n"
     ]
    },
    {
     "name": "stdout",
     "output_type": "stream",
     "text": [
      "Moviepy - Done !\n",
      "Moviepy - video ready /Users/xrxr/Desktop/ssh_1/ForzenLakeDQN/dqn_frozen_lake_videos/rl-video-episode-300.mp4\n",
      "Moviepy - Building video /Users/xrxr/Desktop/ssh_1/ForzenLakeDQN/dqn_frozen_lake_videos/rl-video-episode-400.mp4.\n",
      "Moviepy - Writing video /Users/xrxr/Desktop/ssh_1/ForzenLakeDQN/dqn_frozen_lake_videos/rl-video-episode-400.mp4\n",
      "\n"
     ]
    },
    {
     "name": "stderr",
     "output_type": "stream",
     "text": [
      "INFO:root:Episode 400/5000, Avg Reward: 0.380, Epsilon: 0.050\n"
     ]
    },
    {
     "name": "stdout",
     "output_type": "stream",
     "text": [
      "Moviepy - Done !\n",
      "Moviepy - video ready /Users/xrxr/Desktop/ssh_1/ForzenLakeDQN/dqn_frozen_lake_videos/rl-video-episode-400.mp4\n",
      "Moviepy - Building video /Users/xrxr/Desktop/ssh_1/ForzenLakeDQN/dqn_frozen_lake_videos/rl-video-episode-500.mp4.\n",
      "Moviepy - Writing video /Users/xrxr/Desktop/ssh_1/ForzenLakeDQN/dqn_frozen_lake_videos/rl-video-episode-500.mp4\n",
      "\n"
     ]
    },
    {
     "name": "stderr",
     "output_type": "stream",
     "text": [
      "INFO:root:Episode 500/5000, Avg Reward: 0.420, Epsilon: 0.050\n"
     ]
    },
    {
     "name": "stdout",
     "output_type": "stream",
     "text": [
      "Moviepy - Done !\n",
      "Moviepy - video ready /Users/xrxr/Desktop/ssh_1/ForzenLakeDQN/dqn_frozen_lake_videos/rl-video-episode-500.mp4\n",
      "Moviepy - Building video /Users/xrxr/Desktop/ssh_1/ForzenLakeDQN/dqn_frozen_lake_videos/rl-video-episode-600.mp4.\n",
      "Moviepy - Writing video /Users/xrxr/Desktop/ssh_1/ForzenLakeDQN/dqn_frozen_lake_videos/rl-video-episode-600.mp4\n",
      "\n"
     ]
    },
    {
     "name": "stderr",
     "output_type": "stream",
     "text": [
      "INFO:root:Episode 600/5000, Avg Reward: 0.540, Epsilon: 0.050\n"
     ]
    },
    {
     "name": "stdout",
     "output_type": "stream",
     "text": [
      "Moviepy - Done !\n",
      "Moviepy - video ready /Users/xrxr/Desktop/ssh_1/ForzenLakeDQN/dqn_frozen_lake_videos/rl-video-episode-600.mp4\n",
      "Moviepy - Building video /Users/xrxr/Desktop/ssh_1/ForzenLakeDQN/dqn_frozen_lake_videos/rl-video-episode-700.mp4.\n",
      "Moviepy - Writing video /Users/xrxr/Desktop/ssh_1/ForzenLakeDQN/dqn_frozen_lake_videos/rl-video-episode-700.mp4\n",
      "\n"
     ]
    },
    {
     "name": "stderr",
     "output_type": "stream",
     "text": [
      "INFO:root:Episode 700/5000, Avg Reward: 0.520, Epsilon: 0.050\n"
     ]
    },
    {
     "name": "stdout",
     "output_type": "stream",
     "text": [
      "Moviepy - Done !\n",
      "Moviepy - video ready /Users/xrxr/Desktop/ssh_1/ForzenLakeDQN/dqn_frozen_lake_videos/rl-video-episode-700.mp4\n",
      "Moviepy - Building video /Users/xrxr/Desktop/ssh_1/ForzenLakeDQN/dqn_frozen_lake_videos/rl-video-episode-800.mp4.\n",
      "Moviepy - Writing video /Users/xrxr/Desktop/ssh_1/ForzenLakeDQN/dqn_frozen_lake_videos/rl-video-episode-800.mp4\n",
      "\n"
     ]
    },
    {
     "name": "stderr",
     "output_type": "stream",
     "text": [
      "INFO:root:Episode 800/5000, Avg Reward: 0.380, Epsilon: 0.050\n"
     ]
    },
    {
     "name": "stdout",
     "output_type": "stream",
     "text": [
      "Moviepy - Done !\n",
      "Moviepy - video ready /Users/xrxr/Desktop/ssh_1/ForzenLakeDQN/dqn_frozen_lake_videos/rl-video-episode-800.mp4\n",
      "Moviepy - Building video /Users/xrxr/Desktop/ssh_1/ForzenLakeDQN/dqn_frozen_lake_videos/rl-video-episode-900.mp4.\n",
      "Moviepy - Writing video /Users/xrxr/Desktop/ssh_1/ForzenLakeDQN/dqn_frozen_lake_videos/rl-video-episode-900.mp4\n",
      "\n"
     ]
    },
    {
     "name": "stderr",
     "output_type": "stream",
     "text": [
      "INFO:root:Episode 900/5000, Avg Reward: 0.550, Epsilon: 0.050\n"
     ]
    },
    {
     "name": "stdout",
     "output_type": "stream",
     "text": [
      "Moviepy - Done !\n",
      "Moviepy - video ready /Users/xrxr/Desktop/ssh_1/ForzenLakeDQN/dqn_frozen_lake_videos/rl-video-episode-900.mp4\n",
      "Moviepy - Building video /Users/xrxr/Desktop/ssh_1/ForzenLakeDQN/dqn_frozen_lake_videos/rl-video-episode-1000.mp4.\n",
      "Moviepy - Writing video /Users/xrxr/Desktop/ssh_1/ForzenLakeDQN/dqn_frozen_lake_videos/rl-video-episode-1000.mp4\n",
      "\n"
     ]
    },
    {
     "name": "stderr",
     "output_type": "stream",
     "text": [
      "INFO:root:Episode 1000/5000, Avg Reward: 0.590, Epsilon: 0.050\n"
     ]
    },
    {
     "name": "stdout",
     "output_type": "stream",
     "text": [
      "Moviepy - Done !\n",
      "Moviepy - video ready /Users/xrxr/Desktop/ssh_1/ForzenLakeDQN/dqn_frozen_lake_videos/rl-video-episode-1000.mp4\n",
      "Moviepy - Building video /Users/xrxr/Desktop/ssh_1/ForzenLakeDQN/dqn_frozen_lake_videos/rl-video-episode-1100.mp4.\n",
      "Moviepy - Writing video /Users/xrxr/Desktop/ssh_1/ForzenLakeDQN/dqn_frozen_lake_videos/rl-video-episode-1100.mp4\n",
      "\n"
     ]
    },
    {
     "name": "stderr",
     "output_type": "stream",
     "text": [
      "INFO:root:Episode 1100/5000, Avg Reward: 0.560, Epsilon: 0.050\n"
     ]
    },
    {
     "name": "stdout",
     "output_type": "stream",
     "text": [
      "Moviepy - Done !\n",
      "Moviepy - video ready /Users/xrxr/Desktop/ssh_1/ForzenLakeDQN/dqn_frozen_lake_videos/rl-video-episode-1100.mp4\n",
      "Moviepy - Building video /Users/xrxr/Desktop/ssh_1/ForzenLakeDQN/dqn_frozen_lake_videos/rl-video-episode-1200.mp4.\n",
      "Moviepy - Writing video /Users/xrxr/Desktop/ssh_1/ForzenLakeDQN/dqn_frozen_lake_videos/rl-video-episode-1200.mp4\n",
      "\n"
     ]
    },
    {
     "name": "stderr",
     "output_type": "stream",
     "text": [
      "INFO:root:Episode 1200/5000, Avg Reward: 0.510, Epsilon: 0.050\n"
     ]
    },
    {
     "name": "stdout",
     "output_type": "stream",
     "text": [
      "Moviepy - Done !\n",
      "Moviepy - video ready /Users/xrxr/Desktop/ssh_1/ForzenLakeDQN/dqn_frozen_lake_videos/rl-video-episode-1200.mp4\n",
      "Moviepy - Building video /Users/xrxr/Desktop/ssh_1/ForzenLakeDQN/dqn_frozen_lake_videos/rl-video-episode-1300.mp4.\n",
      "Moviepy - Writing video /Users/xrxr/Desktop/ssh_1/ForzenLakeDQN/dqn_frozen_lake_videos/rl-video-episode-1300.mp4\n",
      "\n"
     ]
    },
    {
     "name": "stderr",
     "output_type": "stream",
     "text": [
      "INFO:root:Episode 1300/5000, Avg Reward: 0.470, Epsilon: 0.050\n"
     ]
    },
    {
     "name": "stdout",
     "output_type": "stream",
     "text": [
      "Moviepy - Done !\n",
      "Moviepy - video ready /Users/xrxr/Desktop/ssh_1/ForzenLakeDQN/dqn_frozen_lake_videos/rl-video-episode-1300.mp4\n",
      "Moviepy - Building video /Users/xrxr/Desktop/ssh_1/ForzenLakeDQN/dqn_frozen_lake_videos/rl-video-episode-1400.mp4.\n",
      "Moviepy - Writing video /Users/xrxr/Desktop/ssh_1/ForzenLakeDQN/dqn_frozen_lake_videos/rl-video-episode-1400.mp4\n",
      "\n"
     ]
    },
    {
     "name": "stderr",
     "output_type": "stream",
     "text": [
      "INFO:root:Episode 1400/5000, Avg Reward: 0.530, Epsilon: 0.050\n"
     ]
    },
    {
     "name": "stdout",
     "output_type": "stream",
     "text": [
      "Moviepy - Done !\n",
      "Moviepy - video ready /Users/xrxr/Desktop/ssh_1/ForzenLakeDQN/dqn_frozen_lake_videos/rl-video-episode-1400.mp4\n",
      "Moviepy - Building video /Users/xrxr/Desktop/ssh_1/ForzenLakeDQN/dqn_frozen_lake_videos/rl-video-episode-1500.mp4.\n",
      "Moviepy - Writing video /Users/xrxr/Desktop/ssh_1/ForzenLakeDQN/dqn_frozen_lake_videos/rl-video-episode-1500.mp4\n",
      "\n"
     ]
    },
    {
     "name": "stderr",
     "output_type": "stream",
     "text": [
      "INFO:root:Episode 1500/5000, Avg Reward: 0.490, Epsilon: 0.050\n"
     ]
    },
    {
     "name": "stdout",
     "output_type": "stream",
     "text": [
      "Moviepy - Done !\n",
      "Moviepy - video ready /Users/xrxr/Desktop/ssh_1/ForzenLakeDQN/dqn_frozen_lake_videos/rl-video-episode-1500.mp4\n",
      "Moviepy - Building video /Users/xrxr/Desktop/ssh_1/ForzenLakeDQN/dqn_frozen_lake_videos/rl-video-episode-1600.mp4.\n",
      "Moviepy - Writing video /Users/xrxr/Desktop/ssh_1/ForzenLakeDQN/dqn_frozen_lake_videos/rl-video-episode-1600.mp4\n",
      "\n"
     ]
    },
    {
     "name": "stderr",
     "output_type": "stream",
     "text": [
      "INFO:root:Episode 1600/5000, Avg Reward: 0.460, Epsilon: 0.050\n"
     ]
    },
    {
     "name": "stdout",
     "output_type": "stream",
     "text": [
      "Moviepy - Done !\n",
      "Moviepy - video ready /Users/xrxr/Desktop/ssh_1/ForzenLakeDQN/dqn_frozen_lake_videos/rl-video-episode-1600.mp4\n",
      "Moviepy - Building video /Users/xrxr/Desktop/ssh_1/ForzenLakeDQN/dqn_frozen_lake_videos/rl-video-episode-1700.mp4.\n",
      "Moviepy - Writing video /Users/xrxr/Desktop/ssh_1/ForzenLakeDQN/dqn_frozen_lake_videos/rl-video-episode-1700.mp4\n",
      "\n"
     ]
    },
    {
     "name": "stderr",
     "output_type": "stream",
     "text": [
      "INFO:root:Episode 1700/5000, Avg Reward: 0.520, Epsilon: 0.050\n"
     ]
    },
    {
     "name": "stdout",
     "output_type": "stream",
     "text": [
      "Moviepy - Done !\n",
      "Moviepy - video ready /Users/xrxr/Desktop/ssh_1/ForzenLakeDQN/dqn_frozen_lake_videos/rl-video-episode-1700.mp4\n",
      "Moviepy - Building video /Users/xrxr/Desktop/ssh_1/ForzenLakeDQN/dqn_frozen_lake_videos/rl-video-episode-1800.mp4.\n",
      "Moviepy - Writing video /Users/xrxr/Desktop/ssh_1/ForzenLakeDQN/dqn_frozen_lake_videos/rl-video-episode-1800.mp4\n",
      "\n"
     ]
    },
    {
     "name": "stderr",
     "output_type": "stream",
     "text": [
      "INFO:root:Episode 1800/5000, Avg Reward: 0.540, Epsilon: 0.050\n"
     ]
    },
    {
     "name": "stdout",
     "output_type": "stream",
     "text": [
      "Moviepy - Done !\n",
      "Moviepy - video ready /Users/xrxr/Desktop/ssh_1/ForzenLakeDQN/dqn_frozen_lake_videos/rl-video-episode-1800.mp4\n",
      "Moviepy - Building video /Users/xrxr/Desktop/ssh_1/ForzenLakeDQN/dqn_frozen_lake_videos/rl-video-episode-1900.mp4.\n",
      "Moviepy - Writing video /Users/xrxr/Desktop/ssh_1/ForzenLakeDQN/dqn_frozen_lake_videos/rl-video-episode-1900.mp4\n",
      "\n"
     ]
    },
    {
     "name": "stderr",
     "output_type": "stream",
     "text": [
      "INFO:root:Episode 1900/5000, Avg Reward: 0.510, Epsilon: 0.050\n"
     ]
    },
    {
     "name": "stdout",
     "output_type": "stream",
     "text": [
      "Moviepy - Done !\n",
      "Moviepy - video ready /Users/xrxr/Desktop/ssh_1/ForzenLakeDQN/dqn_frozen_lake_videos/rl-video-episode-1900.mp4\n",
      "Moviepy - Building video /Users/xrxr/Desktop/ssh_1/ForzenLakeDQN/dqn_frozen_lake_videos/rl-video-episode-2000.mp4.\n",
      "Moviepy - Writing video /Users/xrxr/Desktop/ssh_1/ForzenLakeDQN/dqn_frozen_lake_videos/rl-video-episode-2000.mp4\n",
      "\n"
     ]
    },
    {
     "name": "stderr",
     "output_type": "stream",
     "text": [
      "INFO:root:Episode 2000/5000, Avg Reward: 0.460, Epsilon: 0.050\n"
     ]
    },
    {
     "name": "stdout",
     "output_type": "stream",
     "text": [
      "Moviepy - Done !\n",
      "Moviepy - video ready /Users/xrxr/Desktop/ssh_1/ForzenLakeDQN/dqn_frozen_lake_videos/rl-video-episode-2000.mp4\n",
      "Moviepy - Building video /Users/xrxr/Desktop/ssh_1/ForzenLakeDQN/dqn_frozen_lake_videos/rl-video-episode-2100.mp4.\n",
      "Moviepy - Writing video /Users/xrxr/Desktop/ssh_1/ForzenLakeDQN/dqn_frozen_lake_videos/rl-video-episode-2100.mp4\n",
      "\n"
     ]
    },
    {
     "name": "stderr",
     "output_type": "stream",
     "text": [
      "INFO:root:Episode 2100/5000, Avg Reward: 0.450, Epsilon: 0.050\n"
     ]
    },
    {
     "name": "stdout",
     "output_type": "stream",
     "text": [
      "Moviepy - Done !\n",
      "Moviepy - video ready /Users/xrxr/Desktop/ssh_1/ForzenLakeDQN/dqn_frozen_lake_videos/rl-video-episode-2100.mp4\n",
      "Moviepy - Building video /Users/xrxr/Desktop/ssh_1/ForzenLakeDQN/dqn_frozen_lake_videos/rl-video-episode-2200.mp4.\n",
      "Moviepy - Writing video /Users/xrxr/Desktop/ssh_1/ForzenLakeDQN/dqn_frozen_lake_videos/rl-video-episode-2200.mp4\n",
      "\n"
     ]
    },
    {
     "name": "stderr",
     "output_type": "stream",
     "text": [
      "INFO:root:Episode 2200/5000, Avg Reward: 0.490, Epsilon: 0.050\n"
     ]
    },
    {
     "name": "stdout",
     "output_type": "stream",
     "text": [
      "Moviepy - Done !\n",
      "Moviepy - video ready /Users/xrxr/Desktop/ssh_1/ForzenLakeDQN/dqn_frozen_lake_videos/rl-video-episode-2200.mp4\n",
      "Moviepy - Building video /Users/xrxr/Desktop/ssh_1/ForzenLakeDQN/dqn_frozen_lake_videos/rl-video-episode-2300.mp4.\n",
      "Moviepy - Writing video /Users/xrxr/Desktop/ssh_1/ForzenLakeDQN/dqn_frozen_lake_videos/rl-video-episode-2300.mp4\n",
      "\n"
     ]
    },
    {
     "name": "stderr",
     "output_type": "stream",
     "text": [
      "INFO:root:Episode 2300/5000, Avg Reward: 0.530, Epsilon: 0.050\n"
     ]
    },
    {
     "name": "stdout",
     "output_type": "stream",
     "text": [
      "Moviepy - Done !\n",
      "Moviepy - video ready /Users/xrxr/Desktop/ssh_1/ForzenLakeDQN/dqn_frozen_lake_videos/rl-video-episode-2300.mp4\n",
      "Moviepy - Building video /Users/xrxr/Desktop/ssh_1/ForzenLakeDQN/dqn_frozen_lake_videos/rl-video-episode-2400.mp4.\n",
      "Moviepy - Writing video /Users/xrxr/Desktop/ssh_1/ForzenLakeDQN/dqn_frozen_lake_videos/rl-video-episode-2400.mp4\n",
      "\n"
     ]
    },
    {
     "name": "stderr",
     "output_type": "stream",
     "text": [
      "INFO:root:Episode 2400/5000, Avg Reward: 0.500, Epsilon: 0.050\n"
     ]
    },
    {
     "name": "stdout",
     "output_type": "stream",
     "text": [
      "Moviepy - Done !\n",
      "Moviepy - video ready /Users/xrxr/Desktop/ssh_1/ForzenLakeDQN/dqn_frozen_lake_videos/rl-video-episode-2400.mp4\n",
      "Moviepy - Building video /Users/xrxr/Desktop/ssh_1/ForzenLakeDQN/dqn_frozen_lake_videos/rl-video-episode-2500.mp4.\n",
      "Moviepy - Writing video /Users/xrxr/Desktop/ssh_1/ForzenLakeDQN/dqn_frozen_lake_videos/rl-video-episode-2500.mp4\n",
      "\n"
     ]
    },
    {
     "name": "stderr",
     "output_type": "stream",
     "text": [
      "INFO:root:Episode 2500/5000, Avg Reward: 0.430, Epsilon: 0.050\n"
     ]
    },
    {
     "name": "stdout",
     "output_type": "stream",
     "text": [
      "Moviepy - Done !\n",
      "Moviepy - video ready /Users/xrxr/Desktop/ssh_1/ForzenLakeDQN/dqn_frozen_lake_videos/rl-video-episode-2500.mp4\n",
      "Moviepy - Building video /Users/xrxr/Desktop/ssh_1/ForzenLakeDQN/dqn_frozen_lake_videos/rl-video-episode-2600.mp4.\n",
      "Moviepy - Writing video /Users/xrxr/Desktop/ssh_1/ForzenLakeDQN/dqn_frozen_lake_videos/rl-video-episode-2600.mp4\n",
      "\n"
     ]
    },
    {
     "name": "stderr",
     "output_type": "stream",
     "text": [
      "INFO:root:Episode 2600/5000, Avg Reward: 0.470, Epsilon: 0.050\n"
     ]
    },
    {
     "name": "stdout",
     "output_type": "stream",
     "text": [
      "Moviepy - Done !\n",
      "Moviepy - video ready /Users/xrxr/Desktop/ssh_1/ForzenLakeDQN/dqn_frozen_lake_videos/rl-video-episode-2600.mp4\n",
      "Moviepy - Building video /Users/xrxr/Desktop/ssh_1/ForzenLakeDQN/dqn_frozen_lake_videos/rl-video-episode-2700.mp4.\n",
      "Moviepy - Writing video /Users/xrxr/Desktop/ssh_1/ForzenLakeDQN/dqn_frozen_lake_videos/rl-video-episode-2700.mp4\n",
      "\n"
     ]
    },
    {
     "name": "stderr",
     "output_type": "stream",
     "text": [
      "INFO:root:Episode 2700/5000, Avg Reward: 0.520, Epsilon: 0.050\n"
     ]
    },
    {
     "name": "stdout",
     "output_type": "stream",
     "text": [
      "Moviepy - Done !\n",
      "Moviepy - video ready /Users/xrxr/Desktop/ssh_1/ForzenLakeDQN/dqn_frozen_lake_videos/rl-video-episode-2700.mp4\n",
      "Moviepy - Building video /Users/xrxr/Desktop/ssh_1/ForzenLakeDQN/dqn_frozen_lake_videos/rl-video-episode-2800.mp4.\n",
      "Moviepy - Writing video /Users/xrxr/Desktop/ssh_1/ForzenLakeDQN/dqn_frozen_lake_videos/rl-video-episode-2800.mp4\n",
      "\n"
     ]
    },
    {
     "name": "stderr",
     "output_type": "stream",
     "text": [
      "INFO:root:Episode 2800/5000, Avg Reward: 0.500, Epsilon: 0.050\n"
     ]
    },
    {
     "name": "stdout",
     "output_type": "stream",
     "text": [
      "Moviepy - Done !\n",
      "Moviepy - video ready /Users/xrxr/Desktop/ssh_1/ForzenLakeDQN/dqn_frozen_lake_videos/rl-video-episode-2800.mp4\n",
      "Moviepy - Building video /Users/xrxr/Desktop/ssh_1/ForzenLakeDQN/dqn_frozen_lake_videos/rl-video-episode-2900.mp4.\n",
      "Moviepy - Writing video /Users/xrxr/Desktop/ssh_1/ForzenLakeDQN/dqn_frozen_lake_videos/rl-video-episode-2900.mp4\n",
      "\n"
     ]
    },
    {
     "name": "stderr",
     "output_type": "stream",
     "text": [
      "INFO:root:Episode 2900/5000, Avg Reward: 0.450, Epsilon: 0.050\n"
     ]
    },
    {
     "name": "stdout",
     "output_type": "stream",
     "text": [
      "Moviepy - Done !\n",
      "Moviepy - video ready /Users/xrxr/Desktop/ssh_1/ForzenLakeDQN/dqn_frozen_lake_videos/rl-video-episode-2900.mp4\n",
      "Moviepy - Building video /Users/xrxr/Desktop/ssh_1/ForzenLakeDQN/dqn_frozen_lake_videos/rl-video-episode-3000.mp4.\n",
      "Moviepy - Writing video /Users/xrxr/Desktop/ssh_1/ForzenLakeDQN/dqn_frozen_lake_videos/rl-video-episode-3000.mp4\n",
      "\n"
     ]
    },
    {
     "name": "stderr",
     "output_type": "stream",
     "text": [
      "INFO:root:Episode 3000/5000, Avg Reward: 0.510, Epsilon: 0.050\n"
     ]
    },
    {
     "name": "stdout",
     "output_type": "stream",
     "text": [
      "Moviepy - Done !\n",
      "Moviepy - video ready /Users/xrxr/Desktop/ssh_1/ForzenLakeDQN/dqn_frozen_lake_videos/rl-video-episode-3000.mp4\n",
      "Moviepy - Building video /Users/xrxr/Desktop/ssh_1/ForzenLakeDQN/dqn_frozen_lake_videos/rl-video-episode-3100.mp4.\n",
      "Moviepy - Writing video /Users/xrxr/Desktop/ssh_1/ForzenLakeDQN/dqn_frozen_lake_videos/rl-video-episode-3100.mp4\n",
      "\n"
     ]
    },
    {
     "name": "stderr",
     "output_type": "stream",
     "text": [
      "INFO:root:Episode 3100/5000, Avg Reward: 0.550, Epsilon: 0.050\n"
     ]
    },
    {
     "name": "stdout",
     "output_type": "stream",
     "text": [
      "Moviepy - Done !\n",
      "Moviepy - video ready /Users/xrxr/Desktop/ssh_1/ForzenLakeDQN/dqn_frozen_lake_videos/rl-video-episode-3100.mp4\n",
      "Moviepy - Building video /Users/xrxr/Desktop/ssh_1/ForzenLakeDQN/dqn_frozen_lake_videos/rl-video-episode-3200.mp4.\n",
      "Moviepy - Writing video /Users/xrxr/Desktop/ssh_1/ForzenLakeDQN/dqn_frozen_lake_videos/rl-video-episode-3200.mp4\n",
      "\n"
     ]
    },
    {
     "name": "stderr",
     "output_type": "stream",
     "text": [
      "INFO:root:Episode 3200/5000, Avg Reward: 0.480, Epsilon: 0.050\n"
     ]
    },
    {
     "name": "stdout",
     "output_type": "stream",
     "text": [
      "Moviepy - Done !\n",
      "Moviepy - video ready /Users/xrxr/Desktop/ssh_1/ForzenLakeDQN/dqn_frozen_lake_videos/rl-video-episode-3200.mp4\n",
      "Moviepy - Building video /Users/xrxr/Desktop/ssh_1/ForzenLakeDQN/dqn_frozen_lake_videos/rl-video-episode-3300.mp4.\n",
      "Moviepy - Writing video /Users/xrxr/Desktop/ssh_1/ForzenLakeDQN/dqn_frozen_lake_videos/rl-video-episode-3300.mp4\n",
      "\n"
     ]
    },
    {
     "name": "stderr",
     "output_type": "stream",
     "text": [
      "INFO:root:Episode 3300/5000, Avg Reward: 0.410, Epsilon: 0.050\n"
     ]
    },
    {
     "name": "stdout",
     "output_type": "stream",
     "text": [
      "Moviepy - Done !\n",
      "Moviepy - video ready /Users/xrxr/Desktop/ssh_1/ForzenLakeDQN/dqn_frozen_lake_videos/rl-video-episode-3300.mp4\n",
      "Moviepy - Building video /Users/xrxr/Desktop/ssh_1/ForzenLakeDQN/dqn_frozen_lake_videos/rl-video-episode-3400.mp4.\n",
      "Moviepy - Writing video /Users/xrxr/Desktop/ssh_1/ForzenLakeDQN/dqn_frozen_lake_videos/rl-video-episode-3400.mp4\n",
      "\n"
     ]
    },
    {
     "name": "stderr",
     "output_type": "stream",
     "text": [
      "INFO:root:Episode 3400/5000, Avg Reward: 0.450, Epsilon: 0.050\n"
     ]
    },
    {
     "name": "stdout",
     "output_type": "stream",
     "text": [
      "Moviepy - Done !\n",
      "Moviepy - video ready /Users/xrxr/Desktop/ssh_1/ForzenLakeDQN/dqn_frozen_lake_videos/rl-video-episode-3400.mp4\n",
      "Moviepy - Building video /Users/xrxr/Desktop/ssh_1/ForzenLakeDQN/dqn_frozen_lake_videos/rl-video-episode-3500.mp4.\n",
      "Moviepy - Writing video /Users/xrxr/Desktop/ssh_1/ForzenLakeDQN/dqn_frozen_lake_videos/rl-video-episode-3500.mp4\n",
      "\n"
     ]
    },
    {
     "name": "stderr",
     "output_type": "stream",
     "text": [
      "INFO:root:Episode 3500/5000, Avg Reward: 0.500, Epsilon: 0.050\n"
     ]
    },
    {
     "name": "stdout",
     "output_type": "stream",
     "text": [
      "Moviepy - Done !\n",
      "Moviepy - video ready /Users/xrxr/Desktop/ssh_1/ForzenLakeDQN/dqn_frozen_lake_videos/rl-video-episode-3500.mp4\n",
      "Moviepy - Building video /Users/xrxr/Desktop/ssh_1/ForzenLakeDQN/dqn_frozen_lake_videos/rl-video-episode-3600.mp4.\n",
      "Moviepy - Writing video /Users/xrxr/Desktop/ssh_1/ForzenLakeDQN/dqn_frozen_lake_videos/rl-video-episode-3600.mp4\n",
      "\n"
     ]
    },
    {
     "name": "stderr",
     "output_type": "stream",
     "text": [
      "INFO:root:Episode 3600/5000, Avg Reward: 0.480, Epsilon: 0.050\n"
     ]
    },
    {
     "name": "stdout",
     "output_type": "stream",
     "text": [
      "Moviepy - Done !\n",
      "Moviepy - video ready /Users/xrxr/Desktop/ssh_1/ForzenLakeDQN/dqn_frozen_lake_videos/rl-video-episode-3600.mp4\n",
      "Moviepy - Building video /Users/xrxr/Desktop/ssh_1/ForzenLakeDQN/dqn_frozen_lake_videos/rl-video-episode-3700.mp4.\n",
      "Moviepy - Writing video /Users/xrxr/Desktop/ssh_1/ForzenLakeDQN/dqn_frozen_lake_videos/rl-video-episode-3700.mp4\n",
      "\n"
     ]
    },
    {
     "name": "stderr",
     "output_type": "stream",
     "text": [
      "INFO:root:Episode 3700/5000, Avg Reward: 0.490, Epsilon: 0.050\n"
     ]
    },
    {
     "name": "stdout",
     "output_type": "stream",
     "text": [
      "Moviepy - Done !\n",
      "Moviepy - video ready /Users/xrxr/Desktop/ssh_1/ForzenLakeDQN/dqn_frozen_lake_videos/rl-video-episode-3700.mp4\n",
      "Moviepy - Building video /Users/xrxr/Desktop/ssh_1/ForzenLakeDQN/dqn_frozen_lake_videos/rl-video-episode-3800.mp4.\n",
      "Moviepy - Writing video /Users/xrxr/Desktop/ssh_1/ForzenLakeDQN/dqn_frozen_lake_videos/rl-video-episode-3800.mp4\n",
      "\n"
     ]
    },
    {
     "name": "stderr",
     "output_type": "stream",
     "text": [
      "INFO:root:Episode 3800/5000, Avg Reward: 0.510, Epsilon: 0.050\n"
     ]
    },
    {
     "name": "stdout",
     "output_type": "stream",
     "text": [
      "Moviepy - Done !\n",
      "Moviepy - video ready /Users/xrxr/Desktop/ssh_1/ForzenLakeDQN/dqn_frozen_lake_videos/rl-video-episode-3800.mp4\n",
      "Moviepy - Building video /Users/xrxr/Desktop/ssh_1/ForzenLakeDQN/dqn_frozen_lake_videos/rl-video-episode-3900.mp4.\n",
      "Moviepy - Writing video /Users/xrxr/Desktop/ssh_1/ForzenLakeDQN/dqn_frozen_lake_videos/rl-video-episode-3900.mp4\n",
      "\n"
     ]
    },
    {
     "name": "stderr",
     "output_type": "stream",
     "text": [
      "INFO:root:Episode 3900/5000, Avg Reward: 0.470, Epsilon: 0.050\n"
     ]
    },
    {
     "name": "stdout",
     "output_type": "stream",
     "text": [
      "Moviepy - Done !\n",
      "Moviepy - video ready /Users/xrxr/Desktop/ssh_1/ForzenLakeDQN/dqn_frozen_lake_videos/rl-video-episode-3900.mp4\n",
      "Moviepy - Building video /Users/xrxr/Desktop/ssh_1/ForzenLakeDQN/dqn_frozen_lake_videos/rl-video-episode-4000.mp4.\n",
      "Moviepy - Writing video /Users/xrxr/Desktop/ssh_1/ForzenLakeDQN/dqn_frozen_lake_videos/rl-video-episode-4000.mp4\n",
      "\n"
     ]
    },
    {
     "name": "stderr",
     "output_type": "stream",
     "text": [
      "INFO:root:Episode 4000/5000, Avg Reward: 0.500, Epsilon: 0.050\n"
     ]
    },
    {
     "name": "stdout",
     "output_type": "stream",
     "text": [
      "Moviepy - Done !\n",
      "Moviepy - video ready /Users/xrxr/Desktop/ssh_1/ForzenLakeDQN/dqn_frozen_lake_videos/rl-video-episode-4000.mp4\n",
      "Moviepy - Building video /Users/xrxr/Desktop/ssh_1/ForzenLakeDQN/dqn_frozen_lake_videos/rl-video-episode-4100.mp4.\n",
      "Moviepy - Writing video /Users/xrxr/Desktop/ssh_1/ForzenLakeDQN/dqn_frozen_lake_videos/rl-video-episode-4100.mp4\n",
      "\n"
     ]
    },
    {
     "name": "stderr",
     "output_type": "stream",
     "text": [
      "INFO:root:Episode 4100/5000, Avg Reward: 0.430, Epsilon: 0.050\n"
     ]
    },
    {
     "name": "stdout",
     "output_type": "stream",
     "text": [
      "Moviepy - Done !\n",
      "Moviepy - video ready /Users/xrxr/Desktop/ssh_1/ForzenLakeDQN/dqn_frozen_lake_videos/rl-video-episode-4100.mp4\n",
      "Moviepy - Building video /Users/xrxr/Desktop/ssh_1/ForzenLakeDQN/dqn_frozen_lake_videos/rl-video-episode-4200.mp4.\n",
      "Moviepy - Writing video /Users/xrxr/Desktop/ssh_1/ForzenLakeDQN/dqn_frozen_lake_videos/rl-video-episode-4200.mp4\n",
      "\n"
     ]
    },
    {
     "name": "stderr",
     "output_type": "stream",
     "text": [
      "INFO:root:Episode 4200/5000, Avg Reward: 0.510, Epsilon: 0.050\n"
     ]
    },
    {
     "name": "stdout",
     "output_type": "stream",
     "text": [
      "Moviepy - Done !\n",
      "Moviepy - video ready /Users/xrxr/Desktop/ssh_1/ForzenLakeDQN/dqn_frozen_lake_videos/rl-video-episode-4200.mp4\n",
      "Moviepy - Building video /Users/xrxr/Desktop/ssh_1/ForzenLakeDQN/dqn_frozen_lake_videos/rl-video-episode-4300.mp4.\n",
      "Moviepy - Writing video /Users/xrxr/Desktop/ssh_1/ForzenLakeDQN/dqn_frozen_lake_videos/rl-video-episode-4300.mp4\n",
      "\n"
     ]
    },
    {
     "name": "stderr",
     "output_type": "stream",
     "text": [
      "INFO:root:Episode 4300/5000, Avg Reward: 0.540, Epsilon: 0.050\n"
     ]
    },
    {
     "name": "stdout",
     "output_type": "stream",
     "text": [
      "Moviepy - Done !\n",
      "Moviepy - video ready /Users/xrxr/Desktop/ssh_1/ForzenLakeDQN/dqn_frozen_lake_videos/rl-video-episode-4300.mp4\n",
      "Moviepy - Building video /Users/xrxr/Desktop/ssh_1/ForzenLakeDQN/dqn_frozen_lake_videos/rl-video-episode-4400.mp4.\n",
      "Moviepy - Writing video /Users/xrxr/Desktop/ssh_1/ForzenLakeDQN/dqn_frozen_lake_videos/rl-video-episode-4400.mp4\n",
      "\n"
     ]
    },
    {
     "name": "stderr",
     "output_type": "stream",
     "text": [
      "INFO:root:Episode 4400/5000, Avg Reward: 0.590, Epsilon: 0.050\n"
     ]
    },
    {
     "name": "stdout",
     "output_type": "stream",
     "text": [
      "Moviepy - Done !\n",
      "Moviepy - video ready /Users/xrxr/Desktop/ssh_1/ForzenLakeDQN/dqn_frozen_lake_videos/rl-video-episode-4400.mp4\n",
      "Moviepy - Building video /Users/xrxr/Desktop/ssh_1/ForzenLakeDQN/dqn_frozen_lake_videos/rl-video-episode-4500.mp4.\n",
      "Moviepy - Writing video /Users/xrxr/Desktop/ssh_1/ForzenLakeDQN/dqn_frozen_lake_videos/rl-video-episode-4500.mp4\n",
      "\n"
     ]
    },
    {
     "name": "stderr",
     "output_type": "stream",
     "text": [
      "INFO:root:Episode 4500/5000, Avg Reward: 0.560, Epsilon: 0.050\n"
     ]
    },
    {
     "name": "stdout",
     "output_type": "stream",
     "text": [
      "Moviepy - Done !\n",
      "Moviepy - video ready /Users/xrxr/Desktop/ssh_1/ForzenLakeDQN/dqn_frozen_lake_videos/rl-video-episode-4500.mp4\n",
      "Moviepy - Building video /Users/xrxr/Desktop/ssh_1/ForzenLakeDQN/dqn_frozen_lake_videos/rl-video-episode-4600.mp4.\n",
      "Moviepy - Writing video /Users/xrxr/Desktop/ssh_1/ForzenLakeDQN/dqn_frozen_lake_videos/rl-video-episode-4600.mp4\n",
      "\n"
     ]
    },
    {
     "name": "stderr",
     "output_type": "stream",
     "text": [
      "INFO:root:Episode 4600/5000, Avg Reward: 0.490, Epsilon: 0.050\n"
     ]
    },
    {
     "name": "stdout",
     "output_type": "stream",
     "text": [
      "Moviepy - Done !\n",
      "Moviepy - video ready /Users/xrxr/Desktop/ssh_1/ForzenLakeDQN/dqn_frozen_lake_videos/rl-video-episode-4600.mp4\n",
      "Moviepy - Building video /Users/xrxr/Desktop/ssh_1/ForzenLakeDQN/dqn_frozen_lake_videos/rl-video-episode-4700.mp4.\n",
      "Moviepy - Writing video /Users/xrxr/Desktop/ssh_1/ForzenLakeDQN/dqn_frozen_lake_videos/rl-video-episode-4700.mp4\n",
      "\n"
     ]
    },
    {
     "name": "stderr",
     "output_type": "stream",
     "text": [
      "INFO:root:Episode 4700/5000, Avg Reward: 0.500, Epsilon: 0.050\n"
     ]
    },
    {
     "name": "stdout",
     "output_type": "stream",
     "text": [
      "Moviepy - Done !\n",
      "Moviepy - video ready /Users/xrxr/Desktop/ssh_1/ForzenLakeDQN/dqn_frozen_lake_videos/rl-video-episode-4700.mp4\n",
      "Moviepy - Building video /Users/xrxr/Desktop/ssh_1/ForzenLakeDQN/dqn_frozen_lake_videos/rl-video-episode-4800.mp4.\n",
      "Moviepy - Writing video /Users/xrxr/Desktop/ssh_1/ForzenLakeDQN/dqn_frozen_lake_videos/rl-video-episode-4800.mp4\n",
      "\n"
     ]
    },
    {
     "name": "stderr",
     "output_type": "stream",
     "text": [
      "INFO:root:Episode 4800/5000, Avg Reward: 0.550, Epsilon: 0.050\n"
     ]
    },
    {
     "name": "stdout",
     "output_type": "stream",
     "text": [
      "Moviepy - Done !\n",
      "Moviepy - video ready /Users/xrxr/Desktop/ssh_1/ForzenLakeDQN/dqn_frozen_lake_videos/rl-video-episode-4800.mp4\n",
      "Moviepy - Building video /Users/xrxr/Desktop/ssh_1/ForzenLakeDQN/dqn_frozen_lake_videos/rl-video-episode-4900.mp4.\n",
      "Moviepy - Writing video /Users/xrxr/Desktop/ssh_1/ForzenLakeDQN/dqn_frozen_lake_videos/rl-video-episode-4900.mp4\n",
      "\n"
     ]
    },
    {
     "name": "stderr",
     "output_type": "stream",
     "text": [
      "INFO:root:Episode 4900/5000, Avg Reward: 0.580, Epsilon: 0.050\n"
     ]
    },
    {
     "name": "stdout",
     "output_type": "stream",
     "text": [
      "Moviepy - Done !\n",
      "Moviepy - video ready /Users/xrxr/Desktop/ssh_1/ForzenLakeDQN/dqn_frozen_lake_videos/rl-video-episode-4900.mp4\n",
      "Moviepy - Building video /Users/xrxr/Desktop/ssh_1/ForzenLakeDQN/dqn_frozen_lake_videos/rl-video-episode-5000.mp4.\n",
      "Moviepy - Writing video /Users/xrxr/Desktop/ssh_1/ForzenLakeDQN/dqn_frozen_lake_videos/rl-video-episode-5000.mp4\n",
      "\n"
     ]
    },
    {
     "name": "stderr",
     "output_type": "stream",
     "text": [
      "                                                  "
     ]
    },
    {
     "name": "stdout",
     "output_type": "stream",
     "text": [
      "Moviepy - Done !\n",
      "Moviepy - video ready /Users/xrxr/Desktop/ssh_1/ForzenLakeDQN/dqn_frozen_lake_videos/rl-video-episode-5000.mp4\n"
     ]
    },
    {
     "name": "stderr",
     "output_type": "stream",
     "text": [
      "\r"
     ]
    }
   ],
   "source": [
    "if __name__ == \"__main__\":\n",
    "    logging.basicConfig(level=logging.INFO)\n",
    "    agent = DQNFrozenLake()\n",
    "    rewards = agent.train(episodes=5000, record_video=True)\n",
    "    agent.save_model(\"dqn_frozen_lake.pth\")\n"
   ]
  },
  {
   "cell_type": "code",
   "execution_count": 9,
   "metadata": {},
   "outputs": [
    {
     "data": {
      "image/png": "[encoded data removed]",
      "text/plain": [
       "<Figure size 1000x600 with 1 Axes>"
      ]
     },
     "metadata": {},
     "output_type": "display_data"
    }
   ],
   "source": [
    "# Calculate the average reward for every 100 episodes\n",
    "batch_size = 100\n",
    "average_rewards = [np.mean(rewards[i:i + batch_size]) for i in range(0, len(rewards), batch_size)]\n",
    "\n",
    "# Plot the results\n",
    "plt.figure(figsize=(10, 6))\n",
    "plt.plot(range(1, len(average_rewards) + 1), average_rewards, marker='o')\n",
    "plt.title('Average Reward per 100 Episodes')\n",
    "plt.xlabel('Batch (100 episodes each)')\n",
    "plt.ylabel('Average Reward')\n",
    "plt.grid()\n",
    "plt.show()"
   ]
  },
  {
   "cell_type": "code",
   "execution_count": null,
   "metadata": {},
   "outputs": [],
   "source": []
  }
 ],
 "metadata": {
  "kernelspec": {
   "display_name": "pytorch_env",
   "language": "python",
   "name": "python3"
  },
  "language_info": {
   "codemirror_mode": {
    "name": "ipython",
    "version": 3
   },
   "file_extension": ".py",
   "mimetype": "text/x-python",
   "name": "python",
   "nbconvert_exporter": "python",
   "pygments_lexer": "ipython3",
   "version": "3.9.20"
  }
 },
 "nbformat": 4,
 "nbformat_minor": 2
}
